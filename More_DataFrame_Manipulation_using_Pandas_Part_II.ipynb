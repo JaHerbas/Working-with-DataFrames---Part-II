{
 "cells": [
  {
   "cell_type": "markdown",
   "metadata": {},
   "source": [
    "<font size='5'><b>More DataFrame Manipulation using Pandas</b><font><br>\n",
    "    \n",
    "<font size='5'><b>Part II</b><font>"
   ]
  },
  {
   "cell_type": "markdown",
   "metadata": {
    "ExecuteTime": {
     "end_time": "2020-12-14T13:45:15.478429Z",
     "start_time": "2020-12-14T13:45:15.340659Z"
    }
   },
   "source": [
    "![Figure_1](img/Pandas_p2.png)"
   ]
  },
  {
   "cell_type": "markdown",
   "metadata": {},
   "source": [
    "This notebook will be focuses only on the last point described on the initial content, which will be slicing with Python \n",
    "\n",
    "As always thee first step will be to call the libraries and load the .csv file that I will be using"
   ]
  },
  {
   "cell_type": "code",
   "execution_count": 3,
   "metadata": {
    "ExecuteTime": {
     "end_time": "2020-12-14T13:47:58.913178Z",
     "start_time": "2020-12-14T13:47:58.910311Z"
    }
   },
   "outputs": [],
   "source": [
    "import pandas as pd\n",
    "import numpy as np\n",
    "\n",
    "import warnings\n",
    "warnings.filterwarnings('ignore')"
   ]
  },
  {
   "cell_type": "code",
   "execution_count": 6,
   "metadata": {
    "ExecuteTime": {
     "end_time": "2020-12-14T13:49:26.168510Z",
     "start_time": "2020-12-14T13:49:26.146961Z"
    }
   },
   "outputs": [
    {
     "data": {
      "text/html": [
       "<div>\n",
       "<style scoped>\n",
       "    .dataframe tbody tr th:only-of-type {\n",
       "        vertical-align: middle;\n",
       "    }\n",
       "\n",
       "    .dataframe tbody tr th {\n",
       "        vertical-align: top;\n",
       "    }\n",
       "\n",
       "    .dataframe thead th {\n",
       "        text-align: right;\n",
       "    }\n",
       "</style>\n",
       "<table border=\"1\" class=\"dataframe\">\n",
       "  <thead>\n",
       "    <tr style=\"text-align: right;\">\n",
       "      <th></th>\n",
       "      <th>NAME</th>\n",
       "      <th>POS</th>\n",
       "      <th>PPG</th>\n",
       "      <th>FG%</th>\n",
       "      <th>3PFG%</th>\n",
       "      <th>FT%</th>\n",
       "      <th>RPG</th>\n",
       "      <th>APG</th>\n",
       "      <th>SPG</th>\n",
       "      <th>BPG</th>\n",
       "    </tr>\n",
       "  </thead>\n",
       "  <tbody>\n",
       "    <tr>\n",
       "      <th>1</th>\n",
       "      <td>James Harden</td>\n",
       "      <td>SG</td>\n",
       "      <td>34.3</td>\n",
       "      <td>44.4</td>\n",
       "      <td>35.5</td>\n",
       "      <td>86.5</td>\n",
       "      <td>6.6</td>\n",
       "      <td>7.5</td>\n",
       "      <td>1.8</td>\n",
       "      <td>0.9</td>\n",
       "    </tr>\n",
       "    <tr>\n",
       "      <th>2</th>\n",
       "      <td>Bradley Beal</td>\n",
       "      <td>SG</td>\n",
       "      <td>30.5</td>\n",
       "      <td>45.5</td>\n",
       "      <td>35.3</td>\n",
       "      <td>84.2</td>\n",
       "      <td>4.2</td>\n",
       "      <td>6.1</td>\n",
       "      <td>1.2</td>\n",
       "      <td>0.4</td>\n",
       "    </tr>\n",
       "    <tr>\n",
       "      <th>3</th>\n",
       "      <td>Damian Lillard</td>\n",
       "      <td>PG</td>\n",
       "      <td>30.0</td>\n",
       "      <td>46.3</td>\n",
       "      <td>40.1</td>\n",
       "      <td>88.8</td>\n",
       "      <td>4.3</td>\n",
       "      <td>8.0</td>\n",
       "      <td>1.1</td>\n",
       "      <td>0.3</td>\n",
       "    </tr>\n",
       "    <tr>\n",
       "      <th>4</th>\n",
       "      <td>Trae Young</td>\n",
       "      <td>PG</td>\n",
       "      <td>29.6</td>\n",
       "      <td>43.7</td>\n",
       "      <td>36.1</td>\n",
       "      <td>86.0</td>\n",
       "      <td>4.3</td>\n",
       "      <td>9.3</td>\n",
       "      <td>1.1</td>\n",
       "      <td>0.1</td>\n",
       "    </tr>\n",
       "    <tr>\n",
       "      <th>5</th>\n",
       "      <td>Giannis Antetokounmpo</td>\n",
       "      <td>PF</td>\n",
       "      <td>29.5</td>\n",
       "      <td>55.3</td>\n",
       "      <td>30.4</td>\n",
       "      <td>63.3</td>\n",
       "      <td>13.6</td>\n",
       "      <td>5.6</td>\n",
       "      <td>1.0</td>\n",
       "      <td>1.0</td>\n",
       "    </tr>\n",
       "    <tr>\n",
       "      <th>21</th>\n",
       "      <td>DeAaron Fox</td>\n",
       "      <td>PG</td>\n",
       "      <td>21.1</td>\n",
       "      <td>48.0</td>\n",
       "      <td>29.2</td>\n",
       "      <td>70.5</td>\n",
       "      <td>3.8</td>\n",
       "      <td>6.8</td>\n",
       "      <td>1.5</td>\n",
       "      <td>0.5</td>\n",
       "    </tr>\n",
       "    <tr>\n",
       "      <th>22</th>\n",
       "      <td>Krhis Middleton</td>\n",
       "      <td>SF</td>\n",
       "      <td>20.9</td>\n",
       "      <td>49.7</td>\n",
       "      <td>41.5</td>\n",
       "      <td>91.6</td>\n",
       "      <td>6.2</td>\n",
       "      <td>4.3</td>\n",
       "      <td>0.9</td>\n",
       "      <td>0.1</td>\n",
       "    </tr>\n",
       "    <tr>\n",
       "      <th>23</th>\n",
       "      <td>Collin Sexton</td>\n",
       "      <td>PG</td>\n",
       "      <td>20.8</td>\n",
       "      <td>47.2</td>\n",
       "      <td>38.0</td>\n",
       "      <td>84.6</td>\n",
       "      <td>3.1</td>\n",
       "      <td>3.0</td>\n",
       "      <td>1.0</td>\n",
       "      <td>0.1</td>\n",
       "    </tr>\n",
       "    <tr>\n",
       "      <th>24</th>\n",
       "      <td>Spencer Dinwiddie</td>\n",
       "      <td>SG</td>\n",
       "      <td>20.6</td>\n",
       "      <td>41.5</td>\n",
       "      <td>30.8</td>\n",
       "      <td>77.8</td>\n",
       "      <td>3.5</td>\n",
       "      <td>6.8</td>\n",
       "      <td>0.6</td>\n",
       "      <td>0.3</td>\n",
       "    </tr>\n",
       "    <tr>\n",
       "      <th>25</th>\n",
       "      <td>Kemba Walker</td>\n",
       "      <td>PG</td>\n",
       "      <td>20.4</td>\n",
       "      <td>42.5</td>\n",
       "      <td>38.1</td>\n",
       "      <td>86.4</td>\n",
       "      <td>3.9</td>\n",
       "      <td>4.8</td>\n",
       "      <td>0.9</td>\n",
       "      <td>0.5</td>\n",
       "    </tr>\n",
       "  </tbody>\n",
       "</table>\n",
       "</div>"
      ],
      "text/plain": [
       "                     NAME POS   PPG   FG%  3PFG%   FT%   RPG  APG  SPG  BPG\n",
       "1            James Harden  SG  34.3  44.4   35.5  86.5   6.6  7.5  1.8  0.9\n",
       "2            Bradley Beal  SG  30.5  45.5   35.3  84.2   4.2  6.1  1.2  0.4\n",
       "3          Damian Lillard  PG  30.0  46.3   40.1  88.8   4.3  8.0  1.1  0.3\n",
       "4              Trae Young  PG  29.6  43.7   36.1  86.0   4.3  9.3  1.1  0.1\n",
       "5   Giannis Antetokounmpo  PF  29.5  55.3   30.4  63.3  13.6  5.6  1.0  1.0\n",
       "21            DeAaron Fox  PG  21.1  48.0   29.2  70.5   3.8  6.8  1.5  0.5\n",
       "22        Krhis Middleton  SF  20.9  49.7   41.5  91.6   6.2  4.3  0.9  0.1\n",
       "23          Collin Sexton  PG  20.8  47.2   38.0  84.6   3.1  3.0  1.0  0.1\n",
       "24      Spencer Dinwiddie  SG  20.6  41.5   30.8  77.8   3.5  6.8  0.6  0.3\n",
       "25           Kemba Walker  PG  20.4  42.5   38.1  86.4   3.9  4.8  0.9  0.5"
      ]
     },
     "execution_count": 6,
     "metadata": {},
     "output_type": "execute_result"
    }
   ],
   "source": [
    "nba = pd.read_csv('nba.csv', index_col=0)\n",
    "(nba.head()).append(nba.tail())"
   ]
  },
  {
   "cell_type": "code",
   "execution_count": null,
   "metadata": {},
   "outputs": [],
   "source": []
  }
 ],
 "metadata": {
  "kernelspec": {
   "display_name": "learn-env",
   "language": "python",
   "name": "learn-env"
  },
  "language_info": {
   "codemirror_mode": {
    "name": "ipython",
    "version": 3
   },
   "file_extension": ".py",
   "mimetype": "text/x-python",
   "name": "python",
   "nbconvert_exporter": "python",
   "pygments_lexer": "ipython3",
   "version": "3.6.9"
  },
  "toc": {
   "base_numbering": 1,
   "nav_menu": {},
   "number_sections": true,
   "sideBar": true,
   "skip_h1_title": false,
   "title_cell": "Table of Contents",
   "title_sidebar": "Contents",
   "toc_cell": false,
   "toc_position": {},
   "toc_section_display": true,
   "toc_window_display": false
  },
  "varInspector": {
   "cols": {
    "lenName": 16,
    "lenType": 16,
    "lenVar": 40
   },
   "kernels_config": {
    "python": {
     "delete_cmd_postfix": "",
     "delete_cmd_prefix": "del ",
     "library": "var_list.py",
     "varRefreshCmd": "print(var_dic_list())"
    },
    "r": {
     "delete_cmd_postfix": ") ",
     "delete_cmd_prefix": "rm(",
     "library": "var_list.r",
     "varRefreshCmd": "cat(var_dic_list()) "
    }
   },
   "types_to_exclude": [
    "module",
    "function",
    "builtin_function_or_method",
    "instance",
    "_Feature"
   ],
   "window_display": false
  }
 },
 "nbformat": 4,
 "nbformat_minor": 4
}
